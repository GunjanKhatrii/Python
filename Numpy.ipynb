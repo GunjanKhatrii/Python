{
 "cells": [
  {
   "cell_type": "markdown",
   "id": "416ae3c6",
   "metadata": {},
   "source": [
    "# Numpy\n"
   ]
  },
  {
   "cell_type": "code",
   "execution_count": 13,
   "id": "14e3f160",
   "metadata": {},
   "outputs": [
    {
     "name": "stdout",
     "output_type": "stream",
     "text": [
      "<class 'numpy.ndarray'>\n",
      "[6. 7. 8. 9.]\n",
      "int32\n",
      "float32\n"
     ]
    }
   ],
   "source": [
    "import numpy as np\n",
    "a = np.array([1,2,3,4,5],dtype='i')\n",
    "b = np.array([6,7,8,9],dtype='f')\n",
    "\n",
    "print(type(a)) #type is no longer list but n dimensional array\n",
    "print(b)\n",
    "\n",
    "print(a.dtype)\n",
    "\n",
    "print(b.dtype)\n"
   ]
  },
  {
   "cell_type": "code",
   "execution_count": 7,
   "id": "3f3458c5",
   "metadata": {},
   "outputs": [
    {
     "name": "stdout",
     "output_type": "stream",
     "text": [
      "<class 'numpy.ndarray'>\n"
     ]
    }
   ],
   "source": [
    "c=np.array((2,2,4,5,6))\n",
    "print(type(c))"
   ]
  },
  {
   "cell_type": "code",
   "execution_count": 15,
   "id": "2ee1749d",
   "metadata": {},
   "outputs": [
    {
     "data": {
      "text/plain": [
       "'1.24.3'"
      ]
     },
     "execution_count": 15,
     "metadata": {},
     "output_type": "execute_result"
    }
   ],
   "source": [
    "np.__version__"
   ]
  },
  {
   "cell_type": "code",
   "execution_count": 22,
   "id": "4c0d3a33",
   "metadata": {},
   "outputs": [
    {
     "data": {
      "text/plain": [
       "3"
      ]
     },
     "execution_count": 22,
     "metadata": {},
     "output_type": "execute_result"
    }
   ],
   "source": [
    "a1=np.array([[1,2,3],[3,4,5]])\n",
    "a1.ndim\n",
    "#a1[0][2]\n",
    "a1[0,2]"
   ]
  },
  {
   "cell_type": "code",
   "execution_count": 23,
   "id": "43aeb13c",
   "metadata": {},
   "outputs": [
    {
     "data": {
      "text/plain": [
       "'Multidimensional arrays must have same number of elements in each subarray. if in a 2 dimentional\\narray one has 3 and the other has 4 it wont be accepted in numpy'"
      ]
     },
     "execution_count": 23,
     "metadata": {},
     "output_type": "execute_result"
    }
   ],
   "source": [
    "'''Multidimensional arrays must have same number of elements in each subarray. if in a 2 dimentional\n",
    "array one has 3 and the other has 4 it wont be accepted in numpy'''\n"
   ]
  },
  {
   "cell_type": "code",
   "execution_count": 24,
   "id": "f139fe69",
   "metadata": {},
   "outputs": [
    {
     "data": {
      "text/plain": [
       "3"
      ]
     },
     "execution_count": 24,
     "metadata": {},
     "output_type": "execute_result"
    }
   ],
   "source": [
    "B = np.array([[[1,2,3],[4,5,6],[0,0,-1]],[[-1,-2,-3],[-4,-5,-6],[0,0,1]]])#array of 2D arrays is 3d array\n",
    "B.ndim"
   ]
  },
  {
   "cell_type": "code",
   "execution_count": 25,
   "id": "05f48dc2",
   "metadata": {},
   "outputs": [
    {
     "data": {
      "text/plain": [
       "-3"
      ]
     },
     "execution_count": 25,
     "metadata": {},
     "output_type": "execute_result"
    }
   ],
   "source": [
    "B[1,0,2]"
   ]
  },
  {
   "cell_type": "code",
   "execution_count": 26,
   "id": "938cae5c",
   "metadata": {},
   "outputs": [
    {
     "data": {
      "text/plain": [
       "(2, 3, 3)"
      ]
     },
     "execution_count": 26,
     "metadata": {},
     "output_type": "execute_result"
    }
   ],
   "source": [
    "B.shape"
   ]
  },
  {
   "cell_type": "code",
   "execution_count": 27,
   "id": "b022fdb1",
   "metadata": {},
   "outputs": [
    {
     "data": {
      "text/plain": [
       "18"
      ]
     },
     "execution_count": 27,
     "metadata": {},
     "output_type": "execute_result"
    }
   ],
   "source": [
    "B.size"
   ]
  },
  {
   "cell_type": "code",
   "execution_count": 34,
   "id": "49802280",
   "metadata": {},
   "outputs": [],
   "source": [
    "arr=np.arange(20,100) #resembles to for i in range(20,100,3)\n",
    " #it never creates a list for us but it is an iterator"
   ]
  },
  {
   "cell_type": "code",
   "execution_count": 35,
   "id": "673e280b",
   "metadata": {},
   "outputs": [
    {
     "data": {
      "text/plain": [
       "array([20, 21, 22, 23, 24, 25, 26, 27, 28, 29, 30, 31, 32, 33, 34, 35, 36,\n",
       "       37, 38, 39, 40, 41, 42, 43, 44, 45, 46, 47, 48, 49, 50, 51, 52, 53,\n",
       "       54, 55, 56, 57, 58, 59, 60, 61, 62, 63, 64, 65, 66, 67, 68, 69, 70,\n",
       "       71, 72, 73, 74, 75, 76, 77, 78, 79, 80, 81, 82, 83, 84, 85, 86, 87,\n",
       "       88, 89, 90, 91, 92, 93, 94, 95, 96, 97, 98, 99])"
      ]
     },
     "execution_count": 35,
     "metadata": {},
     "output_type": "execute_result"
    }
   ],
   "source": [
    "arr"
   ]
  },
  {
   "cell_type": "code",
   "execution_count": 36,
   "id": "453ee07b",
   "metadata": {},
   "outputs": [
    {
     "name": "stdout",
     "output_type": "stream",
     "text": [
      "[6 2 9 3 1 7 4 5 0 8]\n"
     ]
    }
   ],
   "source": [
    "ar=np.random.permutation(np.arange(10))#permutation is a function of random module of np library\n",
    "print(ar)"
   ]
  },
  {
   "cell_type": "code",
   "execution_count": 39,
   "id": "540e112d",
   "metadata": {},
   "outputs": [
    {
     "data": {
      "text/plain": [
       "11"
      ]
     },
     "execution_count": 39,
     "metadata": {},
     "output_type": "execute_result"
    }
   ],
   "source": [
    "np.random.randint(10,20)"
   ]
  },
  {
   "cell_type": "code",
   "execution_count": null,
   "id": "3263f38d",
   "metadata": {},
   "outputs": [],
   "source": [
    "'''using arange functioncreate a numpyArray \n",
    "of even numbers starting from 100 to 500''' "
   ]
  },
  {
   "cell_type": "code",
   "execution_count": 48,
   "id": "41477b68",
   "metadata": {},
   "outputs": [],
   "source": [
    "A = np.arange(100,501,2)"
   ]
  },
  {
   "cell_type": "code",
   "execution_count": 49,
   "id": "af336055",
   "metadata": {},
   "outputs": [
    {
     "data": {
      "text/plain": [
       "array([100, 102, 104, 106, 108, 110, 112, 114, 116, 118, 120, 122, 124,\n",
       "       126, 128, 130, 132, 134, 136, 138, 140, 142, 144, 146, 148, 150,\n",
       "       152, 154, 156, 158, 160, 162, 164, 166, 168, 170, 172, 174, 176,\n",
       "       178, 180, 182, 184, 186, 188, 190, 192, 194, 196, 198, 200, 202,\n",
       "       204, 206, 208, 210, 212, 214, 216, 218, 220, 222, 224, 226, 228,\n",
       "       230, 232, 234, 236, 238, 240, 242, 244, 246, 248, 250, 252, 254,\n",
       "       256, 258, 260, 262, 264, 266, 268, 270, 272, 274, 276, 278, 280,\n",
       "       282, 284, 286, 288, 290, 292, 294, 296, 298, 300, 302, 304, 306,\n",
       "       308, 310, 312, 314, 316, 318, 320, 322, 324, 326, 328, 330, 332,\n",
       "       334, 336, 338, 340, 342, 344, 346, 348, 350, 352, 354, 356, 358,\n",
       "       360, 362, 364, 366, 368, 370, 372, 374, 376, 378, 380, 382, 384,\n",
       "       386, 388, 390, 392, 394, 396, 398, 400, 402, 404, 406, 408, 410,\n",
       "       412, 414, 416, 418, 420, 422, 424, 426, 428, 430, 432, 434, 436,\n",
       "       438, 440, 442, 444, 446, 448, 450, 452, 454, 456, 458, 460, 462,\n",
       "       464, 466, 468, 470, 472, 474, 476, 478, 480, 482, 484, 486, 488,\n",
       "       490, 492, 494, 496, 498, 500])"
      ]
     },
     "execution_count": 49,
     "metadata": {},
     "output_type": "execute_result"
    }
   ],
   "source": [
    "A"
   ]
  },
  {
   "cell_type": "code",
   "execution_count": 54,
   "id": "d315e01d",
   "metadata": {},
   "outputs": [],
   "source": [
    "Array=np.random.rand(1000) #10 randome numbers between 0 and 1"
   ]
  },
  {
   "cell_type": "code",
   "execution_count": 55,
   "id": "4ce257eb",
   "metadata": {},
   "outputs": [
    {
     "data": {
      "text/plain": [
       "array([9.38431513e-01, 8.27508773e-02, 3.93733596e-01, 1.73458686e-01,\n",
       "       8.89320433e-02, 3.07279301e-01, 8.59127015e-01, 2.59880581e-01,\n",
       "       9.94684507e-01, 8.99112484e-01, 5.38025317e-02, 3.81113609e-02,\n",
       "       9.24542624e-01, 8.80195514e-01, 2.98296897e-01, 2.92454897e-01,\n",
       "       8.31171974e-01, 4.60732695e-01, 8.37985368e-01, 8.62253104e-01,\n",
       "       4.48265577e-01, 7.30666055e-01, 6.06086746e-01, 8.55530744e-01,\n",
       "       6.22761480e-01, 9.81886844e-01, 1.98106493e-01, 3.75247715e-01,\n",
       "       3.42851861e-01, 1.93997879e-01, 5.07745752e-01, 9.85519054e-02,\n",
       "       8.28737369e-01, 4.21338598e-01, 7.76233996e-02, 9.58501191e-01,\n",
       "       9.83846504e-01, 5.57923238e-01, 1.39291134e-01, 2.75523932e-01,\n",
       "       4.05473971e-01, 8.03328199e-02, 5.83035647e-01, 3.75325987e-01,\n",
       "       2.39704020e-01, 4.39349968e-01, 9.49612896e-02, 9.00886966e-01,\n",
       "       9.61597266e-01, 5.92875567e-01, 4.47464854e-01, 7.86626650e-01,\n",
       "       2.38474117e-02, 1.90090266e-02, 2.94506823e-03, 3.75926142e-01,\n",
       "       2.20732662e-01, 7.62993035e-01, 4.14243371e-01, 1.44320766e-01,\n",
       "       7.85779497e-01, 3.73428441e-01, 7.78621332e-01, 5.90529608e-01,\n",
       "       6.47657217e-01, 1.84348406e-01, 6.70339753e-01, 7.27756202e-01,\n",
       "       7.25720333e-01, 5.56861280e-01, 7.54634540e-02, 8.31953219e-01,\n",
       "       9.62415515e-01, 2.56670340e-01, 7.86927120e-01, 8.56955018e-01,\n",
       "       4.83284795e-01, 2.01654942e-01, 3.98822186e-01, 9.30435995e-01,\n",
       "       4.48880316e-01, 8.00002580e-01, 6.15446336e-01, 1.94654816e-01,\n",
       "       1.39973468e-01, 5.18668706e-02, 2.76957581e-01, 4.23534638e-01,\n",
       "       8.05462446e-01, 2.09141686e-01, 1.28677880e-01, 6.83433794e-02,\n",
       "       9.41764515e-01, 9.67939587e-01, 7.66640020e-01, 1.07121760e-01,\n",
       "       7.28122483e-01, 9.00149500e-01, 8.14005737e-01, 4.94782551e-01,\n",
       "       2.95134546e-01, 7.36306406e-01, 3.92566136e-01, 4.70912415e-01,\n",
       "       7.46778954e-01, 6.67348056e-01, 3.41838850e-01, 4.02013068e-02,\n",
       "       7.85740264e-01, 2.76358591e-01, 6.31129015e-01, 5.27158459e-01,\n",
       "       1.71583052e-01, 7.96420088e-01, 3.18724118e-01, 5.73557962e-01,\n",
       "       1.43715742e-02, 4.76994215e-01, 4.23573396e-01, 9.85804490e-01,\n",
       "       5.47858287e-01, 5.67192459e-01, 4.72293574e-01, 2.35177194e-01,\n",
       "       6.23389537e-01, 2.22393076e-01, 3.26010964e-01, 6.60023149e-01,\n",
       "       9.56672850e-01, 1.59805467e-01, 6.65718339e-01, 8.20533861e-01,\n",
       "       1.68721639e-01, 6.57933082e-01, 9.51710281e-03, 6.52814245e-02,\n",
       "       1.52092074e-01, 3.06340325e-01, 1.88562045e-01, 2.81601669e-01,\n",
       "       3.11899645e-01, 1.82190986e-01, 2.33830611e-01, 4.36391180e-01,\n",
       "       4.76849729e-01, 9.83931237e-01, 6.09263974e-02, 4.36168689e-01,\n",
       "       3.30217773e-01, 1.14499893e-01, 4.43058922e-03, 7.40263953e-01,\n",
       "       7.79695470e-01, 3.80662820e-01, 1.43304833e-01, 7.34731279e-01,\n",
       "       9.29307471e-01, 4.93603366e-01, 3.24014449e-01, 3.42186590e-01,\n",
       "       8.71144685e-01, 9.22081944e-01, 1.43212804e-01, 5.63816563e-01,\n",
       "       5.39343058e-01, 1.91099049e-03, 7.75963463e-01, 6.04665640e-01,\n",
       "       3.11578870e-01, 2.29544476e-01, 9.50467192e-01, 3.06436367e-01,\n",
       "       6.45767149e-02, 1.48054196e-01, 1.88167000e-01, 1.09764067e-01,\n",
       "       2.59029083e-01, 3.93448675e-01, 7.36261479e-01, 1.42721792e-01,\n",
       "       9.03576367e-02, 7.05945373e-01, 8.47125544e-01, 7.87112957e-01,\n",
       "       9.53111538e-01, 4.28364913e-01, 6.68118412e-01, 4.00928697e-01,\n",
       "       6.78194565e-01, 6.91953724e-01, 2.05617321e-01, 7.62378986e-01,\n",
       "       7.95589338e-01, 5.62803603e-01, 2.65515243e-01, 1.78161788e-01,\n",
       "       6.58344306e-01, 8.41699936e-01, 2.56044410e-01, 2.84407033e-01,\n",
       "       9.87334390e-01, 7.34884367e-01, 3.50224640e-01, 9.78977067e-01,\n",
       "       8.49509849e-01, 4.15768755e-01, 8.30250356e-01, 2.11172863e-01,\n",
       "       8.18995752e-01, 7.89077234e-01, 4.51393296e-01, 9.23624358e-01,\n",
       "       9.51721280e-01, 2.34824684e-01, 4.91655390e-01, 2.45903328e-01,\n",
       "       2.94012564e-01, 8.66458826e-02, 4.10754761e-01, 5.00280916e-01,\n",
       "       5.23570606e-01, 3.71623341e-01, 1.66490640e-01, 2.79175717e-01,\n",
       "       3.94462940e-01, 7.06427011e-01, 1.78055522e-01, 4.66699108e-01,\n",
       "       3.42233246e-01, 4.15893416e-01, 3.65084503e-02, 4.35980777e-03,\n",
       "       3.45531721e-01, 1.49534604e-01, 1.26066696e-01, 6.46108558e-01,\n",
       "       8.87926183e-01, 4.91724683e-01, 6.65272448e-01, 9.99404111e-01,\n",
       "       3.49748445e-01, 1.76681062e-01, 1.84942105e-01, 2.34495367e-01,\n",
       "       7.31417958e-01, 5.14104287e-01, 8.86102326e-01, 4.14829642e-01,\n",
       "       5.77056678e-01, 6.74097730e-01, 8.57626691e-01, 3.34116669e-01,\n",
       "       7.06149874e-01, 6.79344671e-01, 7.98658818e-01, 4.65076051e-02,\n",
       "       8.11441817e-01, 6.30039027e-01, 7.91535845e-01, 4.41562591e-01,\n",
       "       5.95888712e-01, 5.86376455e-01, 6.14289783e-01, 1.29846849e-01,\n",
       "       2.76717277e-01, 4.17781157e-01, 8.47581349e-01, 7.54198116e-01,\n",
       "       2.89108055e-01, 3.87160614e-01, 1.58894701e-01, 9.17271436e-01,\n",
       "       4.69380953e-01, 8.75338639e-01, 8.28922541e-01, 3.98165706e-01,\n",
       "       1.68437513e-01, 4.00683834e-01, 6.98539315e-01, 8.29294346e-01,\n",
       "       5.83467135e-02, 9.91328093e-01, 8.74868080e-01, 4.86970184e-01,\n",
       "       2.73532744e-01, 6.50555551e-01, 2.57732083e-01, 1.03343163e-01,\n",
       "       3.09446527e-01, 1.41349651e-01, 4.79764399e-01, 4.00204982e-01,\n",
       "       7.96403143e-01, 5.33437264e-01, 8.33928143e-01, 3.80223559e-01,\n",
       "       3.85133077e-01, 5.78669023e-01, 7.85738811e-01, 8.26032552e-01,\n",
       "       2.91163669e-01, 4.09860432e-01, 5.05973543e-01, 6.76630266e-01,\n",
       "       7.57228689e-01, 7.77198242e-01, 7.35124699e-01, 6.49370611e-01,\n",
       "       4.32175039e-02, 8.30278885e-01, 1.84330519e-01, 2.01922854e-01,\n",
       "       7.72703904e-01, 7.39011897e-01, 1.16196684e-01, 9.25598229e-02,\n",
       "       4.91801900e-01, 4.09836706e-01, 9.87433169e-01, 4.25151570e-01,\n",
       "       5.94533015e-01, 1.83886405e-01, 6.05692986e-01, 8.28970571e-01,\n",
       "       5.57701985e-01, 9.11487486e-01, 2.76498973e-01, 5.65572332e-01,\n",
       "       9.21825509e-01, 5.50855222e-01, 6.86191838e-01, 1.26587842e-01,\n",
       "       8.54785609e-01, 4.41775279e-01, 5.95362089e-01, 6.45636090e-01,\n",
       "       8.49169043e-01, 7.21611650e-01, 7.59793805e-01, 7.23700818e-01,\n",
       "       6.93879137e-01, 5.44326383e-02, 9.93493975e-01, 6.35064729e-01,\n",
       "       2.56729888e-01, 8.06255689e-01, 9.36000811e-01, 2.80964344e-01,\n",
       "       8.51813081e-01, 6.95734399e-02, 1.47883874e-01, 5.10634285e-01,\n",
       "       4.46786767e-02, 1.97660447e-01, 2.96588982e-01, 1.64170179e-01,\n",
       "       9.63586910e-01, 6.25183930e-01, 2.39481224e-01, 2.68024547e-01,\n",
       "       8.38293876e-01, 3.88351919e-01, 3.76658511e-01, 5.84204469e-02,\n",
       "       6.90431475e-02, 2.97402815e-01, 7.18491184e-02, 7.77712691e-01,\n",
       "       2.90099925e-01, 5.07007640e-01, 7.40990165e-01, 6.42892979e-01,\n",
       "       3.15544168e-01, 1.52576582e-01, 9.15239976e-01, 5.90370191e-01,\n",
       "       1.19987294e-01, 7.90358895e-02, 6.83356329e-01, 2.75155495e-01,\n",
       "       1.15885050e-01, 8.85917502e-01, 9.25752914e-01, 5.48003670e-01,\n",
       "       7.76021593e-01, 5.21585092e-01, 1.00697527e-01, 8.76586159e-01,\n",
       "       7.39474042e-01, 8.23920843e-01, 7.13141086e-01, 7.07928083e-01,\n",
       "       9.48987867e-01, 2.27998171e-01, 3.10028647e-01, 8.81129637e-02,\n",
       "       8.09499949e-01, 5.75830589e-01, 6.58738251e-01, 3.14046097e-01,\n",
       "       7.20055147e-01, 4.35841727e-01, 7.67796386e-02, 7.47982918e-01,\n",
       "       4.62784577e-01, 2.64704073e-01, 3.53400964e-01, 8.08656197e-01,\n",
       "       7.58554162e-01, 1.60861635e-01, 6.45927211e-01, 6.96610826e-01,\n",
       "       2.23846735e-01, 1.24496388e-01, 8.42460307e-01, 2.35002131e-01,\n",
       "       8.31955821e-01, 1.62017156e-03, 4.17877165e-01, 7.62003183e-01,\n",
       "       5.58695145e-01, 6.73853778e-01, 4.92237616e-01, 8.52196961e-01,\n",
       "       7.65262284e-01, 9.44709512e-01, 3.64331799e-01, 1.90930582e-01,\n",
       "       1.14389537e-01, 6.35345216e-01, 7.32517762e-01, 3.46285617e-01,\n",
       "       4.57730905e-01, 8.48099581e-01, 1.75374819e-02, 1.92474126e-01,\n",
       "       8.74467011e-01, 5.43908307e-01, 7.50555116e-01, 9.17166517e-01,\n",
       "       7.51703688e-01, 1.92188407e-01, 4.02224194e-01, 1.58889529e-01,\n",
       "       3.54421905e-01, 1.83390210e-01, 6.14856968e-01, 7.00467483e-01,\n",
       "       8.69726734e-01, 8.72761918e-01, 2.33684433e-01, 1.62418198e-01,\n",
       "       4.81636544e-01, 9.50379212e-01, 4.02850591e-01, 7.39396985e-01,\n",
       "       3.39359974e-01, 2.76708441e-01, 7.59992721e-02, 2.29124988e-01,\n",
       "       8.82455635e-02, 6.69909044e-01, 3.77989797e-01, 9.93463741e-01,\n",
       "       1.90883185e-01, 8.63925055e-01, 6.37290815e-01, 8.41918764e-01,\n",
       "       1.59445388e-01, 2.94775075e-03, 4.25922780e-01, 3.16255375e-01,\n",
       "       8.58161532e-01, 2.32874398e-01, 7.49113447e-01, 6.45015551e-01,\n",
       "       2.72948987e-01, 7.62490737e-01, 3.69500401e-01, 9.30651560e-01,\n",
       "       8.09507702e-01, 7.72904147e-01, 6.86908175e-01, 9.29711888e-01,\n",
       "       8.02026829e-01, 4.19577958e-01, 1.15287926e-01, 1.44356754e-01,\n",
       "       7.17535497e-02, 4.83583291e-02, 2.49450149e-01, 5.14476192e-01,\n",
       "       8.51457946e-02, 6.64935100e-01, 7.72659199e-02, 5.18096679e-02,\n",
       "       8.38615097e-01, 1.84348331e-01, 3.58268384e-01, 9.64045351e-01,\n",
       "       5.56543872e-01, 3.00625936e-01, 2.27971833e-01, 9.90220538e-01,\n",
       "       7.98923134e-01, 6.19887964e-01, 9.60599596e-01, 2.17027015e-01,\n",
       "       8.73404592e-01, 9.74409303e-01, 5.68956844e-01, 3.18738816e-01,\n",
       "       2.29728101e-01, 1.62129201e-01, 9.37995162e-02, 4.98078609e-01,\n",
       "       1.33297202e-01, 3.39442976e-01, 4.22006183e-01, 1.97710171e-01,\n",
       "       2.30487436e-01, 4.36734553e-01, 2.92538613e-01, 5.25463353e-01,\n",
       "       4.21212473e-01, 5.73514824e-01, 6.36265013e-01, 8.97099870e-01,\n",
       "       3.36192798e-01, 9.62017545e-01, 2.16969448e-01, 9.13671017e-01,\n",
       "       6.31689372e-01, 3.63850762e-01, 6.17238701e-01, 2.90573437e-01,\n",
       "       4.34521245e-01, 1.02931510e-01, 8.16448082e-01, 2.18227986e-01,\n",
       "       7.71716048e-01, 3.60249853e-01, 4.33490452e-01, 6.66604201e-01,\n",
       "       4.03430384e-01, 4.96312448e-01, 5.17783303e-01, 7.65522243e-01,\n",
       "       9.24945413e-01, 4.44283263e-01, 9.48365242e-01, 4.43373619e-02,\n",
       "       4.42367381e-02, 5.26054351e-01, 4.09589635e-01, 8.73201197e-01,\n",
       "       5.23600738e-01, 9.23603236e-01, 3.83448575e-01, 8.63277890e-01,\n",
       "       4.84575468e-01, 7.44622976e-01, 6.25244350e-01, 6.69257248e-01,\n",
       "       4.62134367e-01, 6.60530875e-01, 4.83364812e-01, 9.09103152e-01,\n",
       "       2.26690187e-01, 4.97408728e-01, 7.13749521e-02, 6.61076532e-01,\n",
       "       5.75330562e-01, 9.86422961e-01, 3.96839698e-01, 9.56471183e-01,\n",
       "       2.97837370e-01, 4.63930734e-01, 3.22441953e-01, 6.25545353e-01,\n",
       "       2.16218440e-01, 4.90858080e-01, 8.92429479e-01, 6.19659115e-01,\n",
       "       5.34105615e-01, 9.19497025e-01, 7.66300678e-01, 6.43977843e-01,\n",
       "       8.97640806e-01, 4.48739803e-02, 5.19148929e-01, 2.96979187e-01,\n",
       "       7.01596764e-02, 6.63638715e-01, 7.59948793e-01, 5.03172462e-01,\n",
       "       9.91874188e-01, 8.96518108e-02, 1.52279575e-01, 5.51599599e-01,\n",
       "       2.71647150e-01, 5.62041522e-01, 6.59132595e-01, 4.32069164e-02,\n",
       "       3.57293599e-01, 9.71931709e-01, 3.16185082e-01, 9.64600843e-01,\n",
       "       6.35171067e-01, 1.79026832e-01, 3.71054709e-01, 6.16674240e-01,\n",
       "       4.81805809e-01, 8.30731578e-01, 4.45204132e-01, 4.11182808e-01,\n",
       "       9.77987793e-01, 4.07536256e-01, 2.06761272e-01, 2.78651819e-01,\n",
       "       5.58003759e-01, 5.43419957e-01, 5.94637476e-02, 4.21006387e-01,\n",
       "       6.79487718e-01, 2.95189653e-01, 9.17221912e-01, 3.47116707e-01,\n",
       "       6.03708828e-02, 7.19011198e-01, 6.70249232e-01, 9.91162361e-01,\n",
       "       1.39086182e-01, 9.88137608e-01, 6.62704281e-01, 3.08168440e-02,\n",
       "       8.92266200e-01, 2.19929568e-01, 5.03307779e-01, 1.75495043e-01,\n",
       "       5.18972533e-01, 9.25712155e-01, 1.65544523e-01, 7.99570836e-01,\n",
       "       5.48915110e-01, 8.09874535e-01, 3.65956548e-01, 2.45214448e-01,\n",
       "       4.01384599e-01, 1.15574726e-01, 2.36259280e-01, 9.60665574e-01,\n",
       "       7.62773001e-01, 4.23875947e-01, 5.40491411e-02, 1.43450876e-01,\n",
       "       2.17245880e-01, 9.79158358e-01, 9.79851818e-01, 4.26906928e-01,\n",
       "       4.15500585e-01, 6.60507866e-02, 4.37250454e-02, 7.38430593e-01,\n",
       "       6.97363201e-01, 6.30887748e-01, 6.04346040e-01, 2.89127729e-01,\n",
       "       9.46466511e-01, 4.12139105e-01, 9.75570254e-01, 2.94092216e-01,\n",
       "       5.43727680e-01, 9.56761883e-01, 2.78640575e-01, 2.67858636e-01,\n",
       "       7.11218644e-01, 8.88737234e-01, 7.79235177e-01, 8.01545954e-01,\n",
       "       3.63663834e-01, 5.22845535e-02, 7.00745223e-01, 7.05612758e-01,\n",
       "       6.15291313e-01, 7.28690449e-01, 7.71754276e-01, 7.87567472e-01,\n",
       "       8.07692432e-01, 2.36844850e-02, 2.23255989e-01, 3.59303987e-01,\n",
       "       4.42842039e-01, 3.84291098e-01, 8.19085318e-01, 7.76777557e-01,\n",
       "       2.48416321e-01, 3.92956068e-02, 6.98111615e-01, 9.80538151e-01,\n",
       "       4.40353937e-01, 7.52031933e-01, 4.04897111e-01, 6.13184157e-01,\n",
       "       3.42301875e-02, 4.62995606e-01, 5.65770331e-01, 9.95608748e-01,\n",
       "       2.64593236e-01, 4.79273478e-01, 9.85289125e-01, 8.53379650e-01,\n",
       "       9.48773876e-01, 5.25572215e-01, 3.89433360e-01, 5.18188831e-01,\n",
       "       5.98441854e-01, 3.25357029e-02, 4.63665520e-01, 6.21246064e-01,\n",
       "       7.86711521e-01, 2.43585462e-01, 1.14196386e-02, 1.73682967e-01,\n",
       "       4.69909647e-02, 9.45188120e-01, 7.78660149e-01, 8.32924673e-01,\n",
       "       4.42651327e-01, 4.47820665e-01, 5.39474066e-01, 9.94658569e-01,\n",
       "       9.76554699e-01, 9.88776477e-01, 5.43926907e-01, 6.77976194e-01,\n",
       "       2.39139577e-01, 2.81699786e-01, 7.90147570e-01, 1.33625341e-01,\n",
       "       6.36686009e-02, 8.58884463e-01, 4.88056021e-01, 6.70446404e-01,\n",
       "       1.25527489e-01, 2.43412321e-01, 1.76155939e-01, 4.92731380e-01,\n",
       "       6.22864665e-01, 3.02588101e-02, 2.71915060e-01, 3.96907282e-01,\n",
       "       6.78497794e-01, 1.02432099e-02, 3.32169964e-01, 1.52532414e-02,\n",
       "       7.53827898e-01, 4.74098015e-01, 9.12263837e-01, 7.26879859e-01,\n",
       "       9.86831563e-01, 8.15630050e-01, 7.67859698e-01, 1.73759084e-01,\n",
       "       2.56670502e-01, 2.30076218e-01, 2.87872835e-01, 4.62347467e-01,\n",
       "       4.19440725e-01, 1.22422839e-02, 4.91079706e-02, 4.78922239e-01,\n",
       "       9.78070660e-01, 3.01567902e-01, 9.90669155e-01, 1.49200674e-01,\n",
       "       4.72047441e-01, 6.92652139e-01, 1.51232160e-01, 9.05626537e-01,\n",
       "       4.79640365e-01, 3.95678712e-01, 5.83365651e-01, 2.49333427e-01,\n",
       "       4.30367751e-01, 1.23242714e-01, 3.51179824e-02, 6.39645292e-01,\n",
       "       7.26990208e-01, 9.93216782e-01, 9.69556891e-01, 7.15026481e-01,\n",
       "       6.10528353e-01, 8.69774731e-01, 5.88471456e-01, 3.79296888e-01,\n",
       "       9.78686218e-01, 8.29474589e-01, 4.63027199e-01, 1.08220437e-01,\n",
       "       9.22174538e-01, 3.63111766e-01, 2.37567588e-01, 2.57925934e-01,\n",
       "       1.63682625e-01, 7.55506975e-01, 6.40253361e-01, 4.05990982e-01,\n",
       "       1.94933825e-01, 2.71047472e-01, 7.29846934e-01, 5.90747308e-01,\n",
       "       5.98630165e-01, 5.75577772e-01, 7.06976138e-01, 2.65748306e-01,\n",
       "       5.19223025e-01, 5.03069319e-03, 8.39036967e-01, 4.88673275e-01,\n",
       "       4.70912886e-01, 8.82565776e-03, 4.98907684e-01, 7.68284315e-01,\n",
       "       8.35541813e-01, 6.31225205e-01, 5.65195330e-01, 7.23480691e-01,\n",
       "       5.41577228e-04, 9.84221836e-01, 2.84431884e-01, 1.17049401e-01,\n",
       "       3.64113468e-01, 1.73148746e-01, 6.59662917e-01, 2.87501380e-01,\n",
       "       8.16402946e-01, 6.33638093e-01, 6.82136424e-01, 9.65057901e-01,\n",
       "       6.19122761e-01, 7.56893913e-01, 1.12394260e-01, 8.66089474e-01,\n",
       "       6.12256162e-01, 4.17969098e-01, 3.13800490e-01, 6.84809666e-01,\n",
       "       7.69428963e-01, 7.32543222e-01, 4.46993093e-01, 7.97119570e-01,\n",
       "       4.81540281e-01, 3.22693300e-01, 3.69610548e-01, 1.14152145e-01,\n",
       "       2.07279663e-01, 6.43537140e-01, 1.07604675e-01, 8.16914654e-01,\n",
       "       6.93823211e-01, 2.21878850e-02, 8.51281126e-01, 8.64396963e-02,\n",
       "       6.69297714e-01, 3.92603454e-01, 4.65008907e-01, 3.08896649e-01,\n",
       "       7.55981045e-01, 7.08578841e-01, 6.87117822e-01, 1.92661062e-01,\n",
       "       7.60651329e-01, 4.09221734e-01, 8.87573602e-01, 6.86680926e-01,\n",
       "       6.86043280e-01, 9.02991018e-01, 2.81722467e-01, 9.03852578e-01,\n",
       "       5.15664837e-01, 4.95414531e-01, 9.30452179e-01, 4.75768887e-01,\n",
       "       9.17998744e-01, 1.46651289e-01, 1.05322865e-01, 9.20890033e-01,\n",
       "       7.67890096e-01, 4.61484700e-01, 1.35108037e-01, 3.50467604e-01,\n",
       "       3.25645572e-01, 2.99408891e-01, 5.70456304e-01, 5.44481339e-01,\n",
       "       8.86761356e-01, 9.10525792e-01, 7.45423707e-01, 7.31575671e-02,\n",
       "       7.14599669e-01, 5.45785342e-01, 9.85484311e-01, 5.64266950e-01,\n",
       "       1.13324199e-01, 8.59091954e-01, 6.80192932e-01, 5.92527672e-01,\n",
       "       6.98429528e-01, 5.01582414e-01, 3.42854671e-01, 4.33249400e-01,\n",
       "       7.67232952e-01, 4.60101077e-01, 2.60014329e-01, 8.08314518e-01,\n",
       "       9.43158571e-01, 1.32164355e-01, 9.82940186e-01, 1.30939608e-01,\n",
       "       9.12562486e-01, 1.04328020e-01, 5.93259652e-01, 8.51043660e-01,\n",
       "       2.17884012e-01, 4.26769675e-01, 7.99769327e-01, 7.66556495e-01,\n",
       "       2.42925623e-01, 2.34582321e-01, 8.73568099e-01, 2.06937007e-01,\n",
       "       1.51011479e-01, 3.03000232e-01, 9.84759887e-01, 5.41732619e-01,\n",
       "       3.08185733e-01, 5.99101330e-02, 3.07428635e-01, 4.73366895e-01,\n",
       "       2.11795991e-01, 3.27754091e-01, 1.37493650e-01, 3.13656923e-01,\n",
       "       1.42888778e-01, 1.58790298e-01, 4.02637767e-01, 5.49558321e-01,\n",
       "       9.44297343e-01, 8.14100964e-01, 7.29313538e-01, 1.76028017e-01,\n",
       "       7.39877911e-01, 5.53574987e-01, 5.50096138e-01, 9.01770134e-01,\n",
       "       6.14487897e-01, 4.03893742e-02, 6.69387205e-01, 2.36301804e-01,\n",
       "       9.98723738e-02, 6.30595133e-01, 4.74879190e-01, 7.70380536e-01,\n",
       "       4.00523693e-01, 7.25038834e-01, 6.42689812e-01, 7.65643338e-01,\n",
       "       8.25548166e-02, 5.06305442e-01, 8.13255263e-01, 1.38196045e-01,\n",
       "       6.06309095e-01, 8.44353762e-01, 2.97085046e-01, 1.38194771e-01,\n",
       "       6.19443503e-01, 1.74501441e-01, 5.80018886e-02, 9.15594727e-01,\n",
       "       5.36577804e-01, 8.22517678e-01, 9.65931257e-01, 8.18795818e-01,\n",
       "       3.70151434e-01, 1.35296924e-01, 1.84028734e-01, 5.17419074e-01,\n",
       "       6.56681657e-01, 7.07013899e-01, 8.70979317e-01, 7.84259763e-01,\n",
       "       3.30006638e-01, 5.83851609e-01, 1.74221993e-01, 7.44699774e-01,\n",
       "       6.63770760e-01, 1.85053620e-02, 9.63126503e-01, 3.59023685e-01])"
      ]
     },
     "execution_count": 55,
     "metadata": {},
     "output_type": "execute_result"
    }
   ],
   "source": [
    "Array"
   ]
  },
  {
   "cell_type": "code",
   "execution_count": 56,
   "id": "27fba9c5",
   "metadata": {},
   "outputs": [],
   "source": [
    "import matplotlib.pyplot as plot"
   ]
  },
  {
   "cell_type": "code",
   "execution_count": 60,
   "id": "352eaf21",
   "metadata": {},
   "outputs": [
    {
     "data": {
      "text/plain": [
       "(array([11.,  7.,  4.,  9., 11., 12.,  9., 11., 10.,  5.,  9., 11.,  7.,\n",
       "        12., 13., 10.,  9., 14., 10., 11.,  7.,  9., 11., 15.,  8.,  9.,\n",
       "         6., 15., 11., 15., 11., 10.,  7.,  6.,  9.,  8.,  9., 10.,  8.,\n",
       "        10., 17., 13., 12.,  9., 12.,  2., 13., 14.,  9., 13.,  8., 10.,\n",
       "         7.,  5., 11., 10.,  9.,  8.,  5., 11.,  5., 13.,  8., 13., 11.,\n",
       "         7., 15., 12.,  9.,  9., 10.,  5., 12., 14.,  9., 10., 19., 13.,\n",
       "        11.,  9., 11., 12.,  9., 13.,  9., 13.,  4., 12.,  7.,  5.,  7.,\n",
       "        11., 12.,  6.,  9.,  8., 12., 10., 17., 12.]),\n",
       " array([5.41577228e-04, 1.05302026e-02, 2.05188279e-02, 3.05074532e-02,\n",
       "        4.04960786e-02, 5.04847039e-02, 6.04733293e-02, 7.04619546e-02,\n",
       "        8.04505799e-02, 9.04392053e-02, 1.00427831e-01, 1.10416456e-01,\n",
       "        1.20405081e-01, 1.30393707e-01, 1.40382332e-01, 1.50370957e-01,\n",
       "        1.60359583e-01, 1.70348208e-01, 1.80336833e-01, 1.90325459e-01,\n",
       "        2.00314084e-01, 2.10302709e-01, 2.20291335e-01, 2.30279960e-01,\n",
       "        2.40268585e-01, 2.50257211e-01, 2.60245836e-01, 2.70234461e-01,\n",
       "        2.80223087e-01, 2.90211712e-01, 3.00200337e-01, 3.10188963e-01,\n",
       "        3.20177588e-01, 3.30166213e-01, 3.40154839e-01, 3.50143464e-01,\n",
       "        3.60132089e-01, 3.70120715e-01, 3.80109340e-01, 3.90097965e-01,\n",
       "        4.00086591e-01, 4.10075216e-01, 4.20063841e-01, 4.30052467e-01,\n",
       "        4.40041092e-01, 4.50029717e-01, 4.60018343e-01, 4.70006968e-01,\n",
       "        4.79995593e-01, 4.89984219e-01, 4.99972844e-01, 5.09961469e-01,\n",
       "        5.19950095e-01, 5.29938720e-01, 5.39927345e-01, 5.49915971e-01,\n",
       "        5.59904596e-01, 5.69893221e-01, 5.79881847e-01, 5.89870472e-01,\n",
       "        5.99859097e-01, 6.09847723e-01, 6.19836348e-01, 6.29824974e-01,\n",
       "        6.39813599e-01, 6.49802224e-01, 6.59790850e-01, 6.69779475e-01,\n",
       "        6.79768100e-01, 6.89756726e-01, 6.99745351e-01, 7.09733976e-01,\n",
       "        7.19722602e-01, 7.29711227e-01, 7.39699852e-01, 7.49688478e-01,\n",
       "        7.59677103e-01, 7.69665728e-01, 7.79654354e-01, 7.89642979e-01,\n",
       "        7.99631604e-01, 8.09620230e-01, 8.19608855e-01, 8.29597480e-01,\n",
       "        8.39586106e-01, 8.49574731e-01, 8.59563356e-01, 8.69551982e-01,\n",
       "        8.79540607e-01, 8.89529232e-01, 8.99517858e-01, 9.09506483e-01,\n",
       "        9.19495108e-01, 9.29483734e-01, 9.39472359e-01, 9.49460984e-01,\n",
       "        9.59449610e-01, 9.69438235e-01, 9.79426860e-01, 9.89415486e-01,\n",
       "        9.99404111e-01]),\n",
       " <BarContainer object of 100 artists>)"
      ]
     },
     "execution_count": 60,
     "metadata": {},
     "output_type": "execute_result"
    },
    {
     "data": {
      "image/png": "[encoded data removed]",
      "text/plain": [
       "<Figure size 640x480 with 1 Axes>"
      ]
     },
     "metadata": {},
     "output_type": "display_data"
    }
   ],
   "source": [
    "plot.hist(Array,bins=100)"
   ]
  },
  {
   "cell_type": "code",
   "execution_count": 63,
   "id": "eb444609",
   "metadata": {},
   "outputs": [
    {
     "data": {
      "text/plain": [
       "(array([1.000e+00, 0.000e+00, 1.000e+00, 0.000e+00, 0.000e+00, 0.000e+00,\n",
       "        0.000e+00, 1.000e+00, 0.000e+00, 0.000e+00, 0.000e+00, 0.000e+00,\n",
       "        0.000e+00, 1.000e+00, 0.000e+00, 1.000e+00, 0.000e+00, 0.000e+00,\n",
       "        1.000e+00, 3.000e+00, 1.000e+00, 1.000e+00, 2.000e+00, 1.000e+00,\n",
       "        2.000e+00, 4.000e+00, 3.000e+00, 3.000e+00, 1.000e+00, 5.000e+00,\n",
       "        8.000e+00, 6.000e+00, 3.000e+00, 8.000e+00, 1.100e+01, 7.000e+00,\n",
       "        1.300e+01, 1.300e+01, 1.300e+01, 2.600e+01, 2.300e+01, 2.500e+01,\n",
       "        3.400e+01, 3.900e+01, 2.800e+01, 3.200e+01, 3.600e+01, 5.400e+01,\n",
       "        6.000e+01, 6.100e+01, 5.600e+01, 8.400e+01, 8.100e+01, 9.900e+01,\n",
       "        1.300e+02, 1.210e+02, 1.520e+02, 1.530e+02, 1.710e+02, 1.570e+02,\n",
       "        1.960e+02, 2.100e+02, 2.540e+02, 2.500e+02, 2.560e+02, 3.240e+02,\n",
       "        3.120e+02, 3.710e+02, 3.670e+02, 4.020e+02, 4.560e+02, 4.930e+02,\n",
       "        5.180e+02, 5.400e+02, 6.010e+02, 6.450e+02, 6.610e+02, 6.780e+02,\n",
       "        8.020e+02, 8.130e+02, 8.760e+02, 9.200e+02, 8.900e+02, 9.490e+02,\n",
       "        1.013e+03, 1.077e+03, 1.117e+03, 1.173e+03, 1.227e+03, 1.294e+03,\n",
       "        1.333e+03, 1.241e+03, 1.328e+03, 1.379e+03, 1.458e+03, 1.450e+03,\n",
       "        1.570e+03, 1.514e+03, 1.511e+03, 1.543e+03, 1.576e+03, 1.643e+03,\n",
       "        1.693e+03, 1.724e+03, 1.670e+03, 1.690e+03, 1.676e+03, 1.730e+03,\n",
       "        1.653e+03, 1.652e+03, 1.651e+03, 1.636e+03, 1.647e+03, 1.704e+03,\n",
       "        1.649e+03, 1.657e+03, 1.614e+03, 1.572e+03, 1.595e+03, 1.487e+03,\n",
       "        1.598e+03, 1.531e+03, 1.462e+03, 1.423e+03, 1.395e+03, 1.277e+03,\n",
       "        1.284e+03, 1.205e+03, 1.104e+03, 1.125e+03, 1.054e+03, 1.014e+03,\n",
       "        1.013e+03, 9.560e+02, 9.080e+02, 9.150e+02, 8.390e+02, 8.150e+02,\n",
       "        7.440e+02, 7.230e+02, 6.750e+02, 6.390e+02, 5.900e+02, 5.730e+02,\n",
       "        5.120e+02, 4.990e+02, 4.830e+02, 4.170e+02, 3.920e+02, 4.010e+02,\n",
       "        3.460e+02, 3.390e+02, 2.880e+02, 2.430e+02, 2.650e+02, 2.230e+02,\n",
       "        2.020e+02, 1.960e+02, 1.450e+02, 1.430e+02, 1.690e+02, 1.310e+02,\n",
       "        1.050e+02, 1.020e+02, 8.100e+01, 8.300e+01, 7.500e+01, 8.200e+01,\n",
       "        6.500e+01, 4.900e+01, 3.800e+01, 5.300e+01, 3.800e+01, 4.100e+01,\n",
       "        4.200e+01, 2.600e+01, 2.700e+01, 2.000e+01, 1.900e+01, 1.800e+01,\n",
       "        1.400e+01, 1.800e+01, 1.300e+01, 1.500e+01, 9.000e+00, 8.000e+00,\n",
       "        7.000e+00, 3.000e+00, 3.000e+00, 3.000e+00, 3.000e+00, 1.000e+00,\n",
       "        2.000e+00, 2.000e+00, 1.000e+00, 3.000e+00, 1.000e+00, 4.000e+00,\n",
       "        1.000e+00, 2.000e+00]),\n",
       " array([-4.68438011, -4.64121535, -4.59805059, -4.55488584, -4.51172108,\n",
       "        -4.46855632, -4.42539157, -4.38222681, -4.33906205, -4.29589729,\n",
       "        -4.25273254, -4.20956778, -4.16640302, -4.12323827, -4.08007351,\n",
       "        -4.03690875, -3.99374399, -3.95057924, -3.90741448, -3.86424972,\n",
       "        -3.82108497, -3.77792021, -3.73475545, -3.69159069, -3.64842594,\n",
       "        -3.60526118, -3.56209642, -3.51893167, -3.47576691, -3.43260215,\n",
       "        -3.3894374 , -3.34627264, -3.30310788, -3.25994312, -3.21677837,\n",
       "        -3.17361361, -3.13044885, -3.0872841 , -3.04411934, -3.00095458,\n",
       "        -2.95778982, -2.91462507, -2.87146031, -2.82829555, -2.7851308 ,\n",
       "        -2.74196604, -2.69880128, -2.65563652, -2.61247177, -2.56930701,\n",
       "        -2.52614225, -2.4829775 , -2.43981274, -2.39664798, -2.35348322,\n",
       "        -2.31031847, -2.26715371, -2.22398895, -2.1808242 , -2.13765944,\n",
       "        -2.09449468, -2.05132993, -2.00816517, -1.96500041, -1.92183565,\n",
       "        -1.8786709 , -1.83550614, -1.79234138, -1.74917663, -1.70601187,\n",
       "        -1.66284711, -1.61968235, -1.5765176 , -1.53335284, -1.49018808,\n",
       "        -1.44702333, -1.40385857, -1.36069381, -1.31752905, -1.2743643 ,\n",
       "        -1.23119954, -1.18803478, -1.14487003, -1.10170527, -1.05854051,\n",
       "        -1.01537575, -0.972211  , -0.92904624, -0.88588148, -0.84271673,\n",
       "        -0.79955197, -0.75638721, -0.71322246, -0.6700577 , -0.62689294,\n",
       "        -0.58372818, -0.54056343, -0.49739867, -0.45423391, -0.41106916,\n",
       "        -0.3679044 , -0.32473964, -0.28157488, -0.23841013, -0.19524537,\n",
       "        -0.15208061, -0.10891586, -0.0657511 , -0.02258634,  0.02057842,\n",
       "         0.06374317,  0.10690793,  0.15007269,  0.19323744,  0.2364022 ,\n",
       "         0.27956696,  0.32273172,  0.36589647,  0.40906123,  0.45222599,\n",
       "         0.49539074,  0.5385555 ,  0.58172026,  0.62488501,  0.66804977,\n",
       "         0.71121453,  0.75437929,  0.79754404,  0.8407088 ,  0.88387356,\n",
       "         0.92703831,  0.97020307,  1.01336783,  1.05653259,  1.09969734,\n",
       "         1.1428621 ,  1.18602686,  1.22919161,  1.27235637,  1.31552113,\n",
       "         1.35868589,  1.40185064,  1.4450154 ,  1.48818016,  1.53134491,\n",
       "         1.57450967,  1.61767443,  1.66083919,  1.70400394,  1.7471687 ,\n",
       "         1.79033346,  1.83349821,  1.87666297,  1.91982773,  1.96299248,\n",
       "         2.00615724,  2.049322  ,  2.09248676,  2.13565151,  2.17881627,\n",
       "         2.22198103,  2.26514578,  2.30831054,  2.3514753 ,  2.39464006,\n",
       "         2.43780481,  2.48096957,  2.52413433,  2.56729908,  2.61046384,\n",
       "         2.6536286 ,  2.69679336,  2.73995811,  2.78312287,  2.82628763,\n",
       "         2.86945238,  2.91261714,  2.9557819 ,  2.99894666,  3.04211141,\n",
       "         3.08527617,  3.12844093,  3.17160568,  3.21477044,  3.2579352 ,\n",
       "         3.30109995,  3.34426471,  3.38742947,  3.43059423,  3.47375898,\n",
       "         3.51692374,  3.5600885 ,  3.60325325,  3.64641801,  3.68958277,\n",
       "         3.73274753,  3.77591228,  3.81907704,  3.8622418 ,  3.90540655,\n",
       "         3.94857131]),\n",
       " <BarContainer object of 200 artists>)"
      ]
     },
     "execution_count": 63,
     "metadata": {},
     "output_type": "execute_result"
    },
    {
     "data": {
      "image/png": "[encoded data removed]",
      "text/plain": [
       "<Figure size 640x480 with 1 Axes>"
      ]
     },
     "metadata": {},
     "output_type": "display_data"
    }
   ],
   "source": [
    "Brand = np.random.randn(100000)\n",
    "#genrates normal randome or gausian random numbers\n",
    "plot.hist(Brand,bins=200)"
   ]
  },
  {
   "cell_type": "code",
   "execution_count": 64,
   "id": "aceb0458",
   "metadata": {},
   "outputs": [],
   "source": [
    "c=np.random.rand(2,3)"
   ]
  },
  {
   "cell_type": "code",
   "execution_count": 65,
   "id": "f95e05a8",
   "metadata": {},
   "outputs": [
    {
     "data": {
      "text/plain": [
       "array([[0.6977019 , 0.50112026, 0.32680115],\n",
       "       [0.38586465, 0.98591723, 0.311687  ]])"
      ]
     },
     "execution_count": 65,
     "metadata": {},
     "output_type": "execute_result"
    }
   ],
   "source": [
    "c"
   ]
  },
  {
   "cell_type": "code",
   "execution_count": 66,
   "id": "105bd2ce",
   "metadata": {},
   "outputs": [
    {
     "data": {
      "text/plain": [
       "2"
      ]
     },
     "execution_count": 66,
     "metadata": {},
     "output_type": "execute_result"
    }
   ],
   "source": [
    "c.ndim"
   ]
  },
  {
   "cell_type": "code",
   "execution_count": 69,
   "id": "398e9f54",
   "metadata": {},
   "outputs": [
    {
     "data": {
      "text/plain": [
       "'Just follows the heirarchy,each 4 dim array has 2 elements, each 3 dim array \\nhas 3 elements,each 2 dim array has 4 elements and each 1 dim array has 2 elements'"
      ]
     },
     "execution_count": 69,
     "metadata": {},
     "output_type": "execute_result"
    }
   ],
   "source": [
    "c=np.random.rand(2,3,4,2)\n",
    "'''Just follows the heirarchy,each 4 dim array has 2 elements, each 3 dim array \n",
    "has 3 elements,each 2 dim array has 4 elements and each 1 dim array has 2 elements'''"
   ]
  },
  {
   "cell_type": "code",
   "execution_count": 70,
   "id": "795330a4",
   "metadata": {},
   "outputs": [
    {
     "data": {
      "text/plain": [
       "array([[[[0.04049197, 0.71160388],\n",
       "         [0.14924434, 0.94071586],\n",
       "         [0.03980354, 0.6682825 ],\n",
       "         [0.40424329, 0.09918255]],\n",
       "\n",
       "        [[0.62482095, 0.14642086],\n",
       "         [0.43282681, 0.61080085],\n",
       "         [0.58292956, 0.9494393 ],\n",
       "         [0.95772585, 0.51995749]],\n",
       "\n",
       "        [[0.37940251, 0.61407081],\n",
       "         [0.291188  , 0.42872563],\n",
       "         [0.54681662, 0.3250332 ],\n",
       "         [0.04479388, 0.89578814]]],\n",
       "\n",
       "\n",
       "       [[[0.82862387, 0.15656385],\n",
       "         [0.05534714, 0.06122556],\n",
       "         [0.57684741, 0.51318976],\n",
       "         [0.6248822 , 0.09953   ]],\n",
       "\n",
       "        [[0.94432469, 0.6724633 ],\n",
       "         [0.59743685, 0.05061007],\n",
       "         [0.67373788, 0.17563482],\n",
       "         [0.86315113, 0.60145447]],\n",
       "\n",
       "        [[0.99167774, 0.40535554],\n",
       "         [0.20893126, 0.90479201],\n",
       "         [0.9583148 , 0.94664991],\n",
       "         [0.97508794, 0.45234296]]]])"
      ]
     },
     "execution_count": 70,
     "metadata": {},
     "output_type": "execute_result"
    }
   ],
   "source": [
    "c"
   ]
  },
  {
   "cell_type": "code",
   "execution_count": 71,
   "id": "27a477c8",
   "metadata": {},
   "outputs": [],
   "source": [
    "D=np.arange(100).reshape(4,25)"
   ]
  },
  {
   "cell_type": "code",
   "execution_count": 72,
   "id": "5f613302",
   "metadata": {},
   "outputs": [
    {
     "data": {
      "text/plain": [
       "array([[ 0,  1,  2,  3,  4,  5,  6,  7,  8,  9, 10, 11, 12, 13, 14, 15,\n",
       "        16, 17, 18, 19, 20, 21, 22, 23, 24],\n",
       "       [25, 26, 27, 28, 29, 30, 31, 32, 33, 34, 35, 36, 37, 38, 39, 40,\n",
       "        41, 42, 43, 44, 45, 46, 47, 48, 49],\n",
       "       [50, 51, 52, 53, 54, 55, 56, 57, 58, 59, 60, 61, 62, 63, 64, 65,\n",
       "        66, 67, 68, 69, 70, 71, 72, 73, 74],\n",
       "       [75, 76, 77, 78, 79, 80, 81, 82, 83, 84, 85, 86, 87, 88, 89, 90,\n",
       "        91, 92, 93, 94, 95, 96, 97, 98, 99]])"
      ]
     },
     "execution_count": 72,
     "metadata": {},
     "output_type": "execute_result"
    }
   ],
   "source": [
    "D"
   ]
  },
  {
   "cell_type": "code",
   "execution_count": 73,
   "id": "0cba52ca",
   "metadata": {},
   "outputs": [
    {
     "name": "stdout",
     "output_type": "stream",
     "text": [
      "[[[ 0  1  2  3  4]\n",
      "  [ 5  6  7  8  9]\n",
      "  [10 11 12 13 14]\n",
      "  [15 16 17 18 19]\n",
      "  [20 21 22 23 24]]\n",
      "\n",
      " [[25 26 27 28 29]\n",
      "  [30 31 32 33 34]\n",
      "  [35 36 37 38 39]\n",
      "  [40 41 42 43 44]\n",
      "  [45 46 47 48 49]]\n",
      "\n",
      " [[50 51 52 53 54]\n",
      "  [55 56 57 58 59]\n",
      "  [60 61 62 63 64]\n",
      "  [65 66 67 68 69]\n",
      "  [70 71 72 73 74]]\n",
      "\n",
      " [[75 76 77 78 79]\n",
      "  [80 81 82 83 84]\n",
      "  [85 86 87 88 89]\n",
      "  [90 91 92 93 94]\n",
      "  [95 96 97 98 99]]]\n"
     ]
    }
   ],
   "source": [
    "e=np.arange(100).reshape(4,5,5)\n",
    "print(e)"
   ]
  },
  {
   "cell_type": "code",
   "execution_count": 2,
   "id": "31cc8e1a",
   "metadata": {},
   "outputs": [],
   "source": [
    "import numpy as np\n",
    "a=np.arange(100)"
   ]
  },
  {
   "cell_type": "code",
   "execution_count": 3,
   "id": "9288bc13",
   "metadata": {},
   "outputs": [],
   "source": [
    "b=a[3:10]"
   ]
  },
  {
   "cell_type": "code",
   "execution_count": 5,
   "id": "ba8b1da3",
   "metadata": {},
   "outputs": [
    {
     "name": "stdout",
     "output_type": "stream",
     "text": [
      "[3 4 5 6 7 8 9]\n"
     ]
    }
   ],
   "source": [
    "b"
   ]
  },
  {
   "cell_type": "code",
   "execution_count": 7,
   "id": "f5466445",
   "metadata": {},
   "outputs": [],
   "source": [
    "b[0]=-1200"
   ]
  },
  {
   "cell_type": "code",
   "execution_count": 8,
   "id": "405e379e",
   "metadata": {},
   "outputs": [
    {
     "data": {
      "text/plain": [
       "array([-1200,     4,     5,     6,     7,     8,     9])"
      ]
     },
     "execution_count": 8,
     "metadata": {},
     "output_type": "execute_result"
    }
   ],
   "source": [
    "b"
   ]
  },
  {
   "cell_type": "code",
   "execution_count": 10,
   "id": "0eab8774",
   "metadata": {},
   "outputs": [
    {
     "data": {
      "text/plain": [
       "array([    0,     1,     2, -1200,     4,     5,     6,     7,     8,\n",
       "           9,    10,    11,    12,    13,    14,    15,    16,    17,\n",
       "          18,    19,    20,    21,    22,    23,    24,    25,    26,\n",
       "          27,    28,    29,    30,    31,    32,    33,    34,    35,\n",
       "          36,    37,    38,    39,    40,    41,    42,    43,    44,\n",
       "          45,    46,    47,    48,    49,    50,    51,    52,    53,\n",
       "          54,    55,    56,    57,    58,    59,    60,    61,    62,\n",
       "          63,    64,    65,    66,    67,    68,    69,    70,    71,\n",
       "          72,    73,    74,    75,    76,    77,    78,    79,    80,\n",
       "          81,    82,    83,    84,    85,    86,    87,    88,    89,\n",
       "          90,    91,    92,    93,    94,    95,    96,    97,    98,\n",
       "          99])"
      ]
     },
     "execution_count": 10,
     "metadata": {},
     "output_type": "execute_result"
    }
   ],
   "source": [
    "a#contents of a also get changed the memory is same we just get a different view"
   ]
  },
  {
   "cell_type": "code",
   "execution_count": 11,
   "id": "d2571a62",
   "metadata": {},
   "outputs": [],
   "source": [
    "b=a[3:10].copy()#new memory is allocated"
   ]
  },
  {
   "cell_type": "code",
   "execution_count": 12,
   "id": "476ccc80",
   "metadata": {},
   "outputs": [
    {
     "data": {
      "text/plain": [
       "array([99, 94, 89, 84, 79, 74, 69, 64, 59, 54, 49, 44, 39, 34, 29, 24, 19,\n",
       "       14,  9,  4])"
      ]
     },
     "execution_count": 12,
     "metadata": {},
     "output_type": "execute_result"
    }
   ],
   "source": [
    "a[::-5]"
   ]
  },
  {
   "cell_type": "code",
   "execution_count": 13,
   "id": "92e330b2",
   "metadata": {},
   "outputs": [
    {
     "data": {
      "text/plain": [
       "array([ 0,  5, 10, 15, 20, 25, 30, 35, 40, 45, 50, 55, 60, 65, 70, 75, 80,\n",
       "       85, 90, 95])"
      ]
     },
     "execution_count": 13,
     "metadata": {},
     "output_type": "execute_result"
    }
   ],
   "source": [
    "a[::5]"
   ]
  },
  {
   "cell_type": "code",
   "execution_count": 14,
   "id": "69e003ff",
   "metadata": {},
   "outputs": [
    {
     "data": {
      "text/plain": [
       "array([    0,     1,     2, -1200,     4,     5,     6,     7,     8,\n",
       "           9,    10,    11,    12,    13,    14,    15,    16,    17,\n",
       "          18,    19,    20,    21,    22,    23,    24,    25,    26,\n",
       "          27,    28,    29,    30,    31,    32,    33,    34,    35,\n",
       "          36,    37,    38,    39,    40,    41,    42,    43,    44,\n",
       "          45,    46,    47,    48,    49,    50,    51,    52,    53,\n",
       "          54,    55,    56,    57,    58,    59,    60,    61,    62,\n",
       "          63,    64,    65,    66,    67,    68,    69,    70,    71,\n",
       "          72,    73,    74,    75,    76,    77,    78,    79,    80,\n",
       "          81,    82,    83,    84,    85,    86,    87,    88,    89,\n",
       "          90,    91,    92,    93,    94,    95,    96,    97,    98,\n",
       "          99])"
      ]
     },
     "execution_count": 14,
     "metadata": {},
     "output_type": "execute_result"
    }
   ],
   "source": [
    "a"
   ]
  },
  {
   "cell_type": "code",
   "execution_count": 18,
   "id": "1e3bb78b",
   "metadata": {},
   "outputs": [],
   "source": [
    "#if you want to know the index then there is no as such function to get index\n",
    "# but we can do the following\n",
    "idx = np.argwhere(a==-1200)[0][0]\n"
   ]
  },
  {
   "cell_type": "code",
   "execution_count": 19,
   "id": "d14bb727",
   "metadata": {},
   "outputs": [
    {
     "data": {
      "text/plain": [
       "3"
      ]
     },
     "execution_count": 19,
     "metadata": {},
     "output_type": "execute_result"
    }
   ],
   "source": [
    "idx"
   ]
  },
  {
   "cell_type": "code",
   "execution_count": 20,
   "id": "a23e15cd",
   "metadata": {},
   "outputs": [],
   "source": [
    "a[idx]=3"
   ]
  },
  {
   "cell_type": "code",
   "execution_count": 21,
   "id": "9d64079e",
   "metadata": {},
   "outputs": [
    {
     "data": {
      "text/plain": [
       "array([ 0,  1,  2,  3,  4,  5,  6,  7,  8,  9, 10, 11, 12, 13, 14, 15, 16,\n",
       "       17, 18, 19, 20, 21, 22, 23, 24, 25, 26, 27, 28, 29, 30, 31, 32, 33,\n",
       "       34, 35, 36, 37, 38, 39, 40, 41, 42, 43, 44, 45, 46, 47, 48, 49, 50,\n",
       "       51, 52, 53, 54, 55, 56, 57, 58, 59, 60, 61, 62, 63, 64, 65, 66, 67,\n",
       "       68, 69, 70, 71, 72, 73, 74, 75, 76, 77, 78, 79, 80, 81, 82, 83, 84,\n",
       "       85, 86, 87, 88, 89, 90, 91, 92, 93, 94, 95, 96, 97, 98, 99])"
      ]
     },
     "execution_count": 21,
     "metadata": {},
     "output_type": "execute_result"
    }
   ],
   "source": [
    "a"
   ]
  },
  {
   "cell_type": "code",
   "execution_count": 3,
   "id": "e99d95c7",
   "metadata": {},
   "outputs": [],
   "source": [
    "import numpy as np\n",
    "a=np.round(10*np.random.rand(5,4))"
   ]
  },
  {
   "cell_type": "code",
   "execution_count": null,
   "id": "2d10a1bd",
   "metadata": {},
   "outputs": [],
   "source": []
  },
  {
   "cell_type": "code",
   "execution_count": 4,
   "id": "7226523a",
   "metadata": {},
   "outputs": [
    {
     "data": {
      "text/plain": [
       "array([[2., 8., 5., 9.],\n",
       "       [1., 9., 3., 6.],\n",
       "       [1., 9., 4., 3.],\n",
       "       [3., 1., 8., 2.],\n",
       "       [8., 1., 2., 4.]])"
      ]
     },
     "execution_count": 4,
     "metadata": {},
     "output_type": "execute_result"
    }
   ],
   "source": [
    "a"
   ]
  },
  {
   "cell_type": "code",
   "execution_count": 5,
   "id": "a7d1162f",
   "metadata": {},
   "outputs": [
    {
     "data": {
      "text/plain": [
       "3.0"
      ]
     },
     "execution_count": 5,
     "metadata": {},
     "output_type": "execute_result"
    }
   ],
   "source": [
    "a[1,2]"
   ]
  },
  {
   "cell_type": "code",
   "execution_count": 6,
   "id": "e7e17356",
   "metadata": {},
   "outputs": [
    {
     "data": {
      "text/plain": [
       "array([1., 9., 3., 6.])"
      ]
     },
     "execution_count": 6,
     "metadata": {},
     "output_type": "execute_result"
    }
   ],
   "source": [
    "a[1,:]"
   ]
  },
  {
   "cell_type": "code",
   "execution_count": 7,
   "id": "84eb1909",
   "metadata": {},
   "outputs": [
    {
     "data": {
      "text/plain": [
       "array([8., 9., 9., 1., 1.])"
      ]
     },
     "execution_count": 7,
     "metadata": {},
     "output_type": "execute_result"
    }
   ],
   "source": [
    "a[:,1]"
   ]
  },
  {
   "cell_type": "code",
   "execution_count": 17,
   "id": "64f5cccf",
   "metadata": {},
   "outputs": [],
   "source": [
    "A=a[1:3,2:4]"
   ]
  },
  {
   "cell_type": "code",
   "execution_count": 18,
   "id": "70bf457d",
   "metadata": {},
   "outputs": [
    {
     "data": {
      "text/plain": [
       "array([[2., 1., 1., 3., 8.],\n",
       "       [8., 9., 9., 1., 1.],\n",
       "       [5., 3., 4., 8., 2.],\n",
       "       [9., 6., 3., 2., 4.]])"
      ]
     },
     "execution_count": 18,
     "metadata": {},
     "output_type": "execute_result"
    }
   ],
   "source": [
    "a.T"
   ]
  },
  {
   "cell_type": "code",
   "execution_count": 19,
   "id": "fe7f7f9f",
   "metadata": {},
   "outputs": [],
   "source": [
    "\n",
    "import numpy.linalg as la"
   ]
  },
  {
   "cell_type": "code",
   "execution_count": 20,
   "id": "a2417b5b",
   "metadata": {},
   "outputs": [
    {
     "data": {
      "text/plain": [
       "array([[-0.2       ,  0.4       ],\n",
       "       [ 0.26666667, -0.2       ]])"
      ]
     },
     "execution_count": 20,
     "metadata": {},
     "output_type": "execute_result"
    }
   ],
   "source": [
    "la.inv(A)# matrix should be square to calculate inverse of it "
   ]
  },
  {
   "cell_type": "code",
   "execution_count": 21,
   "id": "b705ad1f",
   "metadata": {},
   "outputs": [
    {
     "data": {
      "text/plain": [
       "array([[2., 8., 5., 9.],\n",
       "       [1., 9., 3., 6.],\n",
       "       [1., 9., 4., 3.],\n",
       "       [3., 1., 8., 2.],\n",
       "       [8., 1., 2., 4.]])"
      ]
     },
     "execution_count": 21,
     "metadata": {},
     "output_type": "execute_result"
    }
   ],
   "source": [
    "a"
   ]
  },
  {
   "cell_type": "code",
   "execution_count": 22,
   "id": "a7d02309",
   "metadata": {},
   "outputs": [],
   "source": [
    "a.sort(axis=0) # axis = 0 for sorting columns"
   ]
  },
  {
   "cell_type": "code",
   "execution_count": 23,
   "id": "63da090e",
   "metadata": {},
   "outputs": [
    {
     "data": {
      "text/plain": [
       "array([[1., 1., 2., 2.],\n",
       "       [1., 1., 3., 3.],\n",
       "       [2., 8., 4., 4.],\n",
       "       [3., 9., 5., 6.],\n",
       "       [8., 9., 8., 9.]])"
      ]
     },
     "execution_count": 23,
     "metadata": {},
     "output_type": "execute_result"
    }
   ],
   "source": [
    "a"
   ]
  },
  {
   "cell_type": "code",
   "execution_count": 26,
   "id": "2842f978",
   "metadata": {},
   "outputs": [],
   "source": [
    "a.sort(axis=1)# axis = 1 to sort all rows"
   ]
  },
  {
   "cell_type": "code",
   "execution_count": 27,
   "id": "d8f08858",
   "metadata": {},
   "outputs": [
    {
     "data": {
      "text/plain": [
       "array([[1., 1., 2., 2.],\n",
       "       [1., 1., 3., 3.],\n",
       "       [2., 4., 4., 8.],\n",
       "       [3., 5., 6., 9.],\n",
       "       [8., 8., 9., 9.]])"
      ]
     },
     "execution_count": 27,
     "metadata": {},
     "output_type": "execute_result"
    }
   ],
   "source": [
    "a"
   ]
  },
  {
   "cell_type": "code",
   "execution_count": 29,
   "id": "0b4eb917",
   "metadata": {},
   "outputs": [],
   "source": [
    "#create 2 numpy arrays a and b (3,4) swap the last row of a with b. Make sure you don't loose any data."
   ]
  },
  {
   "cell_type": "code",
   "execution_count": 41,
   "id": "e8c1dd05",
   "metadata": {},
   "outputs": [
    {
     "name": "stdout",
     "output_type": "stream",
     "text": [
      "a: \n",
      " [[ 2. 10.  8.  9.]\n",
      " [ 1.  5.  9.  7.]\n",
      " [ 0.  0.  0.  0.]]\n",
      "b: \n",
      " [[1. 1. 1. 1.]\n",
      " [1. 1. 1. 1.]\n",
      " [2. 7. 7. 9.]]\n"
     ]
    }
   ],
   "source": [
    "a=np.round(10*np.random.rand(3,4))\n",
    "b=np.ones((3,4))\n",
    "b[-1]=0\n",
    "\n",
    "a[-1],b[-1]=b[-1].copy(),a[-1].copy()\n",
    "\n",
    "print(\"a: \\n\",a)\n",
    "print(\"b: \\n\",b)"
   ]
  },
  {
   "cell_type": "code",
   "execution_count": 44,
   "id": "e23c9c3b",
   "metadata": {},
   "outputs": [],
   "source": [
    "a=np.arange(100)"
   ]
  },
  {
   "cell_type": "code",
   "execution_count": 45,
   "id": "52d6aa87",
   "metadata": {},
   "outputs": [],
   "source": [
    "b=a[[3,6,4]]"
   ]
  },
  {
   "cell_type": "code",
   "execution_count": 46,
   "id": "09e6685c",
   "metadata": {},
   "outputs": [
    {
     "data": {
      "text/plain": [
       "array([3, 6, 4])"
      ]
     },
     "execution_count": 46,
     "metadata": {},
     "output_type": "execute_result"
    }
   ],
   "source": [
    "b"
   ]
  },
  {
   "cell_type": "code",
   "execution_count": 47,
   "id": "7a7d3900",
   "metadata": {},
   "outputs": [],
   "source": [
    "b[-1]=1500"
   ]
  },
  {
   "cell_type": "code",
   "execution_count": 48,
   "id": "a74f0e41",
   "metadata": {},
   "outputs": [
    {
     "data": {
      "text/plain": [
       "array([   3,    6, 1500])"
      ]
     },
     "execution_count": 48,
     "metadata": {},
     "output_type": "execute_result"
    }
   ],
   "source": [
    "b"
   ]
  },
  {
   "cell_type": "code",
   "execution_count": 49,
   "id": "276372c9",
   "metadata": {},
   "outputs": [
    {
     "data": {
      "text/plain": [
       "array([ 0,  1,  2,  3,  4,  5,  6,  7,  8,  9, 10, 11, 12, 13, 14, 15, 16,\n",
       "       17, 18, 19, 20, 21, 22, 23, 24, 25, 26, 27, 28, 29, 30, 31, 32, 33,\n",
       "       34, 35, 36, 37, 38, 39, 40, 41, 42, 43, 44, 45, 46, 47, 48, 49, 50,\n",
       "       51, 52, 53, 54, 55, 56, 57, 58, 59, 60, 61, 62, 63, 64, 65, 66, 67,\n",
       "       68, 69, 70, 71, 72, 73, 74, 75, 76, 77, 78, 79, 80, 81, 82, 83, 84,\n",
       "       85, 86, 87, 88, 89, 90, 91, 92, 93, 94, 95, 96, 97, 98, 99])"
      ]
     },
     "execution_count": 49,
     "metadata": {},
     "output_type": "execute_result"
    }
   ],
   "source": [
    "a"
   ]
  },
  {
   "cell_type": "code",
   "execution_count": 59,
   "id": "e437fd01",
   "metadata": {},
   "outputs": [
    {
     "ename": "AttributeError",
     "evalue": "'builtin_function_or_method' object has no attribute 'copy'",
     "output_type": "error",
     "traceback": [
      "\u001b[0;31m---------------------------------------------------------------------------\u001b[0m",
      "\u001b[0;31mAttributeError\u001b[0m                            Traceback (most recent call last)",
      "Cell \u001b[0;32mIn[59], line 1\u001b[0m\n\u001b[0;32m----> 1\u001b[0m help(np\u001b[38;5;241m.\u001b[39marray\u001b[38;5;241m.\u001b[39mcopy())\n",
      "\u001b[0;31mAttributeError\u001b[0m: 'builtin_function_or_method' object has no attribute 'copy'"
     ]
    }
   ],
   "source": []
  },
  {
   "cell_type": "code",
   "execution_count": 60,
   "id": "e0a12081",
   "metadata": {},
   "outputs": [],
   "source": [
    "b=a[a<40]"
   ]
  },
  {
   "cell_type": "code",
   "execution_count": 61,
   "id": "f2e46417",
   "metadata": {},
   "outputs": [
    {
     "data": {
      "text/plain": [
       "array([ 0,  1,  2,  3,  4,  5,  6,  7,  8,  9, 10, 11, 12, 13, 14, 15, 16,\n",
       "       17, 18, 19, 20, 21, 22, 23, 24, 25, 26, 27, 28, 29, 30, 31, 32, 33,\n",
       "       34, 35, 36, 37, 38, 39])"
      ]
     },
     "execution_count": 61,
     "metadata": {},
     "output_type": "execute_result"
    }
   ],
   "source": [
    "b"
   ]
  },
  {
   "cell_type": "code",
   "execution_count": 63,
   "id": "6566e25f",
   "metadata": {},
   "outputs": [],
   "source": [
    "b=a[(a<40) & (a>30)]"
   ]
  },
  {
   "cell_type": "code",
   "execution_count": 64,
   "id": "581e625d",
   "metadata": {},
   "outputs": [
    {
     "data": {
      "text/plain": [
       "array([31, 32, 33, 34, 35, 36, 37, 38, 39])"
      ]
     },
     "execution_count": 64,
     "metadata": {},
     "output_type": "execute_result"
    }
   ],
   "source": [
    "b"
   ]
  },
  {
   "cell_type": "code",
   "execution_count": 65,
   "id": "305ebe7f",
   "metadata": {},
   "outputs": [],
   "source": [
    "#& is used for arrays(Each side of & can have many elements and they can be either true of false)\n",
    "#and is only used with single objevts (each side is 1 element either true or false)\n",
    "#| or (same explaination as above)\n",
    "# ~ not (same elxplainantion as above)"
   ]
  },
  {
   "cell_type": "code",
   "execution_count": 87,
   "id": "1c7b1d4b",
   "metadata": {},
   "outputs": [
    {
     "data": {
      "text/plain": [
       "array([  0,   1,   2,   3,   4,   5,   6,   7,   8,   9,  10,  11,  12,\n",
       "        13,  14,  15,  16,  17,  18,  19,  20,  21,  22,  23,  24,  25,\n",
       "        26,  27,  28,  29,  30,  31,  32,  33,  34,  35,  36,  37,  38,\n",
       "        39,  40,  41,  42,  43,  44,  45,  46,  47,  48,  49,  50,  51,\n",
       "        52,  53,  54,  55,  56,  57,  58,  59,  60,  61,  62,  63,  64,\n",
       "        65,  66,  67,  68,  69,  70,  71,  72,  73,  74,  75,  76,  77,\n",
       "        78,  79,  80,  81,  82,  83,  84,  85,  86,  87,  88,  89,  90,\n",
       "        91,  92,  93,  94,  95,  96,  97,  98,  99, 100, 101, 102, 103,\n",
       "       104, 105, 106, 107, 108, 109, 110, 111, 112, 113, 114, 115, 116,\n",
       "       117, 118, 119, 120, 121, 122, 123, 124, 125, 126, 127, 128, 129,\n",
       "       130, 131, 132, 133, 134, 135, 136, 137, 138, 139, 140, 141, 142,\n",
       "       143, 144, 145, 146, 147, 148, 149, 150, 151, 152, 153, 154, 155,\n",
       "       156, 157, 158, 159, 160, 161, 162, 163, 164, 165, 166, 167, 168,\n",
       "       169, 170, 171, 172, 173, 174, 175, 176, 177, 178, 179, 180, 181,\n",
       "       182, 183, 184, 185, 186, 187, 188, 189, 190, 191, 192, 193, 194,\n",
       "       195, 196, 197, 198, 199, 200])"
      ]
     },
     "execution_count": 87,
     "metadata": {},
     "output_type": "execute_result"
    }
   ],
   "source": [
    "arr=np.arange(201)\n",
    "arr"
   ]
  },
  {
   "cell_type": "code",
   "execution_count": 121,
   "id": "1c8ff8b9",
   "metadata": {},
   "outputs": [],
   "source": [
    "b=arr[(arr %2 !=0) & (arr>100)]"
   ]
  },
  {
   "cell_type": "code",
   "execution_count": 123,
   "id": "ab1daa0e",
   "metadata": {},
   "outputs": [
    {
     "name": "stdout",
     "output_type": "stream",
     "text": [
      "[101 103 105 107 109 111 113 115 117 119 121 123 125 127 129 131 133 135\n",
      " 137 139 141 143 145 147 149 151 153 155 157 159 161 163 165 167 169 171\n",
      " 173 175 177 179 181 183 185 187 189 191 193 195 197 199]\n"
     ]
    }
   ],
   "source": [
    "print(b)\n"
   ]
  },
  {
   "cell_type": "code",
   "execution_count": 135,
   "id": "4db9c165",
   "metadata": {},
   "outputs": [],
   "source": [
    "arr=np.round(10*np.random.rand(2,5))"
   ]
  },
  {
   "cell_type": "code",
   "execution_count": 136,
   "id": "410f81fe",
   "metadata": {},
   "outputs": [
    {
     "data": {
      "text/plain": [
       "array([[10.,  6.,  1.,  4.,  0.],\n",
       "       [ 9.,  2.,  1.,  2.,  2.]])"
      ]
     },
     "execution_count": 136,
     "metadata": {},
     "output_type": "execute_result"
    }
   ],
   "source": [
    "arr"
   ]
  },
  {
   "cell_type": "code",
   "execution_count": 137,
   "id": "51a1ad1e",
   "metadata": {},
   "outputs": [
    {
     "data": {
      "text/plain": [
       "array([[13.,  9.,  4.,  7.,  3.],\n",
       "       [12.,  5.,  4.,  5.,  5.]])"
      ]
     },
     "execution_count": 137,
     "metadata": {},
     "output_type": "execute_result"
    }
   ],
   "source": [
    "arr+3"
   ]
  },
  {
   "cell_type": "code",
   "execution_count": 138,
   "id": "0f743c17",
   "metadata": {},
   "outputs": [
    {
     "data": {
      "text/plain": [
       "array([[10.,  6.,  1.,  4.,  0.],\n",
       "       [10.,  3.,  2.,  3.,  3.]])"
      ]
     },
     "execution_count": 138,
     "metadata": {},
     "output_type": "execute_result"
    }
   ],
   "source": [
    "arr+(np.arange(2).reshape(2,1))#number of rows should be same "
   ]
  },
  {
   "cell_type": "code",
   "execution_count": 141,
   "id": "0a46620c",
   "metadata": {},
   "outputs": [
    {
     "data": {
      "text/plain": [
       "array([[5., 7.],\n",
       "       [5., 4.]])"
      ]
     },
     "execution_count": 141,
     "metadata": {},
     "output_type": "execute_result"
    }
   ],
   "source": [
    "b=np.round(10*np.random.rand(2,2))\n",
    "b"
   ]
  },
  {
   "cell_type": "code",
   "execution_count": 142,
   "id": "06821587",
   "metadata": {},
   "outputs": [],
   "source": [
    "c=np.hstack((arr,b))"
   ]
  },
  {
   "cell_type": "code",
   "execution_count": 143,
   "id": "c76fb1cf",
   "metadata": {},
   "outputs": [
    {
     "data": {
      "text/plain": [
       "array([[10.,  6.,  1.,  4.,  0.,  5.,  7.],\n",
       "       [ 9.,  2.,  1.,  2.,  2.,  5.,  4.]])"
      ]
     },
     "execution_count": 143,
     "metadata": {},
     "output_type": "execute_result"
    }
   ],
   "source": [
    "c"
   ]
  },
  {
   "cell_type": "code",
   "execution_count": 173,
   "id": "9cbeac27",
   "metadata": {},
   "outputs": [],
   "source": [
    "A=np.random.permutation(np.arange(10))"
   ]
  },
  {
   "cell_type": "code",
   "execution_count": 179,
   "id": "7f0cf52b",
   "metadata": {},
   "outputs": [
    {
     "data": {
      "text/plain": [
       "array([0, 5, 8, 2, 3, 1, 4, 7, 9, 6])"
      ]
     },
     "execution_count": 179,
     "metadata": {},
     "output_type": "execute_result"
    }
   ],
   "source": [
    "A"
   ]
  },
  {
   "cell_type": "code",
   "execution_count": 180,
   "id": "fab6c5df",
   "metadata": {},
   "outputs": [
    {
     "data": {
      "text/plain": [
       "array([0, 1, 2, 3, 4, 5, 6, 7, 8, 9])"
      ]
     },
     "execution_count": 180,
     "metadata": {},
     "output_type": "execute_result"
    }
   ],
   "source": [
    "np.sort(A)"
   ]
  },
  {
   "cell_type": "code",
   "execution_count": 181,
   "id": "eb30f7c5",
   "metadata": {},
   "outputs": [
    {
     "data": {
      "text/plain": [
       "array([6, 9, 7, 4, 1, 3, 2, 8, 5, 0])"
      ]
     },
     "execution_count": 181,
     "metadata": {},
     "output_type": "execute_result"
    }
   ],
   "source": [
    "A[::-1]"
   ]
  },
  {
   "cell_type": "code",
   "execution_count": null,
   "id": "184ed4a9",
   "metadata": {},
   "outputs": [],
   "source": []
  },
  {
   "cell_type": "code",
   "execution_count": null,
   "id": "3fc68d3c",
   "metadata": {},
   "outputs": [],
   "source": []
  }
 ],
 "metadata": {
  "kernelspec": {
   "display_name": "Python 3 (ipykernel)",
   "language": "python",
   "name": "python3"
  },
  "language_info": {
   "codemirror_mode": {
    "name": "ipython",
    "version": 3
   },
   "file_extension": ".py",
   "mimetype": "text/x-python",
   "name": "python",
   "nbconvert_exporter": "python",
   "pygments_lexer": "ipython3",
   "version": "3.11.4"
  }
 },
 "nbformat": 4,
 "nbformat_minor": 5
}
